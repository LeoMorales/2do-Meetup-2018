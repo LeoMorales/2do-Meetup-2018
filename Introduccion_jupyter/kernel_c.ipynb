{
 "cells": [
  {
   "cell_type": "markdown",
   "metadata": {},
   "source": [
    "## Hola Mundo en C, y algunos ejemplitos\n",
    "\n",
    "https://github.com/brendan-rius/jupyter-c-kernel"
   ]
  },
  {
   "cell_type": "code",
   "execution_count": 1,
   "metadata": {},
   "outputs": [
    {
     "name": "stdout",
     "output_type": "stream",
     "text": [
      "Hello world\n"
     ]
    }
   ],
   "source": [
    "#include <stdio.h>\n",
    "\n",
    "int main() {\n",
    "    printf(\"Hello world\\n\");\n",
    "}"
   ]
  },
  {
   "cell_type": "code",
   "execution_count": 2,
   "metadata": {},
   "outputs": [
    {
     "name": "stdout",
     "output_type": "stream",
     "text": [
      "sum = 1275\n"
     ]
    }
   ],
   "source": [
    "#include <stdio.h>\n",
    "#define LAST 50\n",
    "\n",
    "int main()\n",
    "{\n",
    "    int i, sum = 0;\n",
    "\n",
    "    for ( i = 1; i <= LAST; i++ ) {\n",
    "      sum += i;\n",
    "    } \n",
    "    printf(\"sum = %d\\n\", sum);\n",
    "\n",
    "    return 0;\n",
    "}\n"
   ]
  },
  {
   "cell_type": "code",
   "execution_count": 3,
   "metadata": {},
   "outputs": [
    {
     "name": "stdout",
     "output_type": "stream",
     "text": [
      "Struct's size is 24.\n"
     ]
    }
   ],
   "source": [
    "#include <stdio.h>\n",
    "\n",
    "struct test {\n",
    "        int one;\n",
    "        int two;\n",
    "        char *str;\n",
    "        float flt;\n",
    "};\n",
    "\n",
    "int main()\n",
    "{\n",
    "        printf(\"Struct's size is %d.\\n\", sizeof(struct test));\n",
    "        return 0;\n",
    "}"
   ]
  }
 ],
 "metadata": {
  "kernelspec": {
   "display_name": "C",
   "language": "c",
   "name": "c"
  },
  "language_info": {
   "file_extension": ".c",
   "mimetype": "text/plain",
   "name": "c"
  }
 },
 "nbformat": 4,
 "nbformat_minor": 2
}
